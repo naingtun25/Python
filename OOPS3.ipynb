{
 "cells": [
  {
   "cell_type": "code",
   "execution_count": 6,
   "metadata": {},
   "outputs": [
    {
     "name": "stdout",
     "output_type": "stream",
     "text": [
      "3608.5193999999997\n"
     ]
    }
   ],
   "source": [
    "class Circle:\n",
    "\n",
    "    def __init__(self, R):\n",
    "        self.R = R\n",
    "\n",
    "    def getR(self, R):\n",
    "        self.R = R\n",
    "    \n",
    "    def getA(self):\n",
    "        self.A = 3.14*self.R*self.R\n",
    "        return self.A\n",
    "\n",
    "    def printA(self):\n",
    "        print(self.getA())\n",
    "\n",
    "C1 = Circle(33.9)\n",
    "C1.printA()\n",
    "\n",
    "\n"
   ]
  }
 ],
 "metadata": {
  "interpreter": {
   "hash": "fe44fef87f92f48a3a32707d0df204585f471652bc0ce87358a3ce712bc24db0"
  },
  "kernelspec": {
   "display_name": "Python 3.9.7 64-bit",
   "name": "python3"
  },
  "language_info": {
   "codemirror_mode": {
    "name": "ipython",
    "version": 3
   },
   "file_extension": ".py",
   "mimetype": "text/x-python",
   "name": "python",
   "nbconvert_exporter": "python",
   "pygments_lexer": "ipython3",
   "version": "3.9.7"
  },
  "orig_nbformat": 4
 },
 "nbformat": 4,
 "nbformat_minor": 2
}
